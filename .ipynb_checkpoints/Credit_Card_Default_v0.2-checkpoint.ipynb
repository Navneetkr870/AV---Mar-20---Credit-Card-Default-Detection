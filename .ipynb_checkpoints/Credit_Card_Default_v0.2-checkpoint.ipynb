{
 "cells": [
  {
   "cell_type": "markdown",
   "metadata": {
    "_uuid": "e8ae7a3d49eb4c957af467a68957ae2637e80d71"
   },
   "source": [
    "<h1><center><font size=\"6\">Default of Credit Card Clients </font></center></h1>\n",
    "\n",
    "BY : Navneet Kumar"
   ]
  },
  {
   "cell_type": "markdown",
   "metadata": {
    "_uuid": "59c14ee24fdc95ffb0163222bb5cfbed7b16678e"
   },
   "source": [
    "# <a id=\"1\">Introduction</a>  \n",
    "\n",
    "\n",
    "## Dataset\n",
    "\n",
    "This dataset contains information on default payments, demographic factors, credit data, history of payment, and bill statements of credit card clients in Taiwan from **April 2005** to **September 2005**. \n",
    "\n",
    "## Content\n",
    "\n",
    "There are 25 variables:\n",
    "\n",
    "* **ID**: ID of each client\n",
    "* **LIMIT_BAL**: Amount of given credit in NT dollars (includes individual and family/supplementary credit\n",
    "* **SEX**: Gender (1=male, 2=female)\n",
    "* **EDUCATION**: (1=graduate school, 2=university, 3=high school, 4=others, 5=unknown, 6=unknown)\n",
    "* **MARRIAGE**: Marital status (1=married, 2=single, 3=others)\n",
    "* **AGE**: Age in years\n",
    "* **PAY_0**: Repayment status in September, 2005 (-1=pay duly, 1=payment delay for one month, 2=payment delay for two months, ... 8=payment delay for eight months, 9=payment delay for nine months and above)\n",
    "* **PAY_2**: Repayment status in August, 2005 (scale same as above)\n",
    "* **PAY_3**: Repayment status in July, 2005 (scale same as above)\n",
    "* **PAY_4**: Repayment status in June, 2005 (scale same as above)\n",
    "* **PAY_5**: Repayment status in May, 2005 (scale same as above)\n",
    "* **PAY_6**: Repayment status in April, 2005 (scale same as above)\n",
    "* **BILL_AMT1**: Amount of bill statement in September, 2005 (NT dollar)\n",
    "* **BILL_AMT2**: Amount of bill statement in August, 2005 (NT dollar)\n",
    "* **BILL_AMT3**: Amount of bill statement in July, 2005 (NT dollar)\n",
    "* **BILL_AMT4**: Amount of bill statement in June, 2005 (NT dollar)\n",
    "* **BILL_AMT5**: Amount of bill statement in May, 2005 (NT dollar)\n",
    "* **BILL_AMT6**: Amount of bill statement in April, 2005 (NT dollar)\n",
    "* **PAY_AMT1**: Amount of previous payment in September, 2005 (NT dollar)\n",
    "* **PAY_AMT2**: Amount of previous payment in August, 2005 (NT dollar)\n",
    "* **PAY_AMT3**: Amount of previous payment in July, 2005 (NT dollar)\n",
    "* **PAY_AMT4**: Amount of previous payment in June, 2005 (NT dollar)\n",
    "* **PAY_AMT5**: Amount of previous payment in May, 2005 (NT dollar)\n",
    "* **PAY_AMT6**: Amount of previous payment in April, 2005 (NT dollar)\n",
    "* **default.payment.next.month**: Default payment (1=yes, 0=no)\n",
    "\n"
   ]
  },
  {
   "cell_type": "markdown",
   "metadata": {
    "_uuid": "206cbdfdcc23a7b80878572a73aa4e16e38a568a"
   },
   "source": [
    "# <a id=\"2\">Load packages</a>\n",
    "\n",
    "## Load packages"
   ]
  },
  {
   "cell_type": "code",
   "execution_count": 23,
   "metadata": {
    "_uuid": "39eb918049391b864c6d5f9dfd3ce5807584cfe9"
   },
   "outputs": [],
   "source": [
    "import pandas as pd \n",
    "import numpy as np\n",
    "import matplotlib\n",
    "import matplotlib.pyplot as plt\n",
    "import seaborn as sns\n",
    "%matplotlib inline \n",
    "\n",
    "import gc\n",
    "from datetime import datetime \n",
    "from sklearn.model_selection import train_test_split\n",
    "from sklearn.model_selection import KFold\n",
    "from sklearn.metrics import roc_auc_score\n",
    "from sklearn.ensemble import RandomForestClassifier\n",
    "from sklearn.ensemble import AdaBoostClassifier\n",
    "import xgboost as xgb\n",
    "\n",
    "pd.set_option('display.max_columns', 100)"
   ]
  },
  {
   "cell_type": "markdown",
   "metadata": {
    "_uuid": "751722a3aa9850285494af48cea32543d0ba5e06"
   },
   "source": [
    "## Set parameters\n",
    "\n",
    "Here we set few parameters for the analysis and models."
   ]
  },
  {
   "cell_type": "code",
   "execution_count": 24,
   "metadata": {
    "_uuid": "5df85f736efd89e53e2d14ee6a8401a73a18ef6c"
   },
   "outputs": [],
   "source": [
    "RFC_METRIC = 'gini'  #metric used for RandomForrestClassifier\n",
    "NUM_ESTIMATORS = 100 #number of estimators used for RandomForrestClassifier\n",
    "NO_JOBS = 4 #number of parallel jobs used for RandomForrestClassifier\n",
    "\n",
    "#VALIDATION\n",
    "VALID_SIZE = 0.20 # simple validation using train_test_split\n",
    "\n",
    "#CROSS-VALIDATION\n",
    "NUMBER_KFOLDS = 5 #number of KFolds for cross-validation\n",
    "\n",
    "RANDOM_STATE = 2018\n",
    "\n",
    "MAX_ROUNDS = 1000 #lgb iterations\n",
    "EARLY_STOP = 50 #lgb early stop \n",
    "OPT_ROUNDS = 1000  #To be adjusted based on best validation rounds\n",
    "VERBOSE_EVAL = 50 #Print out metric result\n",
    "\n",
    "IS_LOCAL = False"
   ]
  },
  {
   "cell_type": "markdown",
   "metadata": {
    "_uuid": "27818289f04036c3026d48f2eabcf6f38263ea4f"
   },
   "source": [
    "# <a id=\"3\">Read the data</a>"
   ]
  },
  {
   "cell_type": "code",
   "execution_count": 25,
   "metadata": {
    "_uuid": "28a631e66df7507ef44cb67201226dc799f08ad2"
   },
   "outputs": [],
   "source": [
    "data_df = pd.read_csv(\"Train.csv\")\n",
    "data_test_df = pd.read_csv(\"Test.csv\")"
   ]
  },
  {
   "cell_type": "markdown",
   "metadata": {
    "_uuid": "eaed36728b51950cdee59ce028f6d16b3bfb0363"
   },
   "source": [
    "# <a id=\"4\">Check the data</a>"
   ]
  },
  {
   "cell_type": "code",
   "execution_count": 26,
   "metadata": {
    "_uuid": "56e5bea59ca29389f818b03cfdb33209636fc868"
   },
   "outputs": [
    {
     "name": "stdout",
     "output_type": "stream",
     "text": [
      "Default Credit Card Clients data -  rows: 21000  columns: 25\n"
     ]
    }
   ],
   "source": [
    "print(\"Default Credit Card Clients data -  rows:\",data_df.shape[0],\" columns:\", data_df.shape[1])"
   ]
  },
  {
   "cell_type": "markdown",
   "metadata": {
    "_uuid": "db00be74b6c6b7a0fab8c8fcfb681172ca436547"
   },
   "source": [
    "## <a id=\"41\">Glimpse the data</a>\n",
    "\n",
    "We start by looking to the data features (first 5 rows)."
   ]
  },
  {
   "cell_type": "code",
   "execution_count": 27,
   "metadata": {
    "_uuid": "4ddde8e6a24eb6ca1044838064b61745535422ae"
   },
   "outputs": [
    {
     "data": {
      "text/html": [
       "<div>\n",
       "<style scoped>\n",
       "    .dataframe tbody tr th:only-of-type {\n",
       "        vertical-align: middle;\n",
       "    }\n",
       "\n",
       "    .dataframe tbody tr th {\n",
       "        vertical-align: top;\n",
       "    }\n",
       "\n",
       "    .dataframe thead th {\n",
       "        text-align: right;\n",
       "    }\n",
       "</style>\n",
       "<table border=\"1\" class=\"dataframe\">\n",
       "  <thead>\n",
       "    <tr style=\"text-align: right;\">\n",
       "      <th></th>\n",
       "      <th>ID</th>\n",
       "      <th>LIMIT_BAL</th>\n",
       "      <th>SEX</th>\n",
       "      <th>EDUCATION</th>\n",
       "      <th>MARRIAGE</th>\n",
       "      <th>AGE</th>\n",
       "      <th>PAY_0</th>\n",
       "      <th>PAY_2</th>\n",
       "      <th>PAY_3</th>\n",
       "      <th>PAY_4</th>\n",
       "      <th>PAY_5</th>\n",
       "      <th>PAY_6</th>\n",
       "      <th>BILL_AMT1</th>\n",
       "      <th>BILL_AMT2</th>\n",
       "      <th>BILL_AMT3</th>\n",
       "      <th>BILL_AMT4</th>\n",
       "      <th>BILL_AMT5</th>\n",
       "      <th>BILL_AMT6</th>\n",
       "      <th>PAY_AMT1</th>\n",
       "      <th>PAY_AMT2</th>\n",
       "      <th>PAY_AMT3</th>\n",
       "      <th>PAY_AMT4</th>\n",
       "      <th>PAY_AMT5</th>\n",
       "      <th>PAY_AMT6</th>\n",
       "      <th>default_payment_next_month</th>\n",
       "    </tr>\n",
       "  </thead>\n",
       "  <tbody>\n",
       "    <tr>\n",
       "      <th>0</th>\n",
       "      <td>25150</td>\n",
       "      <td>360000</td>\n",
       "      <td>2</td>\n",
       "      <td>2</td>\n",
       "      <td>2</td>\n",
       "      <td>25</td>\n",
       "      <td>-1</td>\n",
       "      <td>-1</td>\n",
       "      <td>-1</td>\n",
       "      <td>-1</td>\n",
       "      <td>-1</td>\n",
       "      <td>-1</td>\n",
       "      <td>20952</td>\n",
       "      <td>12590</td>\n",
       "      <td>3479</td>\n",
       "      <td>3435</td>\n",
       "      <td>8870</td>\n",
       "      <td>2020</td>\n",
       "      <td>12590</td>\n",
       "      <td>3479</td>\n",
       "      <td>3446</td>\n",
       "      <td>8870</td>\n",
       "      <td>2020</td>\n",
       "      <td>27043</td>\n",
       "      <td>0</td>\n",
       "    </tr>\n",
       "    <tr>\n",
       "      <th>1</th>\n",
       "      <td>13470</td>\n",
       "      <td>240000</td>\n",
       "      <td>2</td>\n",
       "      <td>1</td>\n",
       "      <td>2</td>\n",
       "      <td>46</td>\n",
       "      <td>2</td>\n",
       "      <td>2</td>\n",
       "      <td>-2</td>\n",
       "      <td>-1</td>\n",
       "      <td>0</td>\n",
       "      <td>-1</td>\n",
       "      <td>456</td>\n",
       "      <td>0</td>\n",
       "      <td>0</td>\n",
       "      <td>2240</td>\n",
       "      <td>1681</td>\n",
       "      <td>2267</td>\n",
       "      <td>0</td>\n",
       "      <td>0</td>\n",
       "      <td>2240</td>\n",
       "      <td>0</td>\n",
       "      <td>2267</td>\n",
       "      <td>3074</td>\n",
       "      <td>0</td>\n",
       "    </tr>\n",
       "    <tr>\n",
       "      <th>2</th>\n",
       "      <td>3092</td>\n",
       "      <td>320000</td>\n",
       "      <td>2</td>\n",
       "      <td>2</td>\n",
       "      <td>1</td>\n",
       "      <td>41</td>\n",
       "      <td>0</td>\n",
       "      <td>0</td>\n",
       "      <td>0</td>\n",
       "      <td>0</td>\n",
       "      <td>0</td>\n",
       "      <td>0</td>\n",
       "      <td>49846</td>\n",
       "      <td>53811</td>\n",
       "      <td>38717</td>\n",
       "      <td>35409</td>\n",
       "      <td>35036</td>\n",
       "      <td>35939</td>\n",
       "      <td>5000</td>\n",
       "      <td>2000</td>\n",
       "      <td>2000</td>\n",
       "      <td>3000</td>\n",
       "      <td>3000</td>\n",
       "      <td>1500</td>\n",
       "      <td>0</td>\n",
       "    </tr>\n",
       "    <tr>\n",
       "      <th>3</th>\n",
       "      <td>13973</td>\n",
       "      <td>50000</td>\n",
       "      <td>2</td>\n",
       "      <td>2</td>\n",
       "      <td>2</td>\n",
       "      <td>24</td>\n",
       "      <td>-1</td>\n",
       "      <td>-1</td>\n",
       "      <td>-2</td>\n",
       "      <td>-2</td>\n",
       "      <td>-2</td>\n",
       "      <td>-2</td>\n",
       "      <td>2675</td>\n",
       "      <td>0</td>\n",
       "      <td>0</td>\n",
       "      <td>0</td>\n",
       "      <td>0</td>\n",
       "      <td>0</td>\n",
       "      <td>0</td>\n",
       "      <td>0</td>\n",
       "      <td>0</td>\n",
       "      <td>0</td>\n",
       "      <td>0</td>\n",
       "      <td>0</td>\n",
       "      <td>1</td>\n",
       "    </tr>\n",
       "    <tr>\n",
       "      <th>4</th>\n",
       "      <td>10567</td>\n",
       "      <td>80000</td>\n",
       "      <td>1</td>\n",
       "      <td>3</td>\n",
       "      <td>1</td>\n",
       "      <td>52</td>\n",
       "      <td>-1</td>\n",
       "      <td>0</td>\n",
       "      <td>0</td>\n",
       "      <td>0</td>\n",
       "      <td>0</td>\n",
       "      <td>0</td>\n",
       "      <td>35861</td>\n",
       "      <td>18521</td>\n",
       "      <td>19385</td>\n",
       "      <td>20561</td>\n",
       "      <td>21261</td>\n",
       "      <td>21457</td>\n",
       "      <td>1500</td>\n",
       "      <td>1500</td>\n",
       "      <td>1500</td>\n",
       "      <td>1028</td>\n",
       "      <td>876</td>\n",
       "      <td>1449</td>\n",
       "      <td>0</td>\n",
       "    </tr>\n",
       "  </tbody>\n",
       "</table>\n",
       "</div>"
      ],
      "text/plain": [
       "      ID  LIMIT_BAL  SEX  EDUCATION  MARRIAGE  AGE  PAY_0  PAY_2  PAY_3  \\\n",
       "0  25150     360000    2          2         2   25     -1     -1     -1   \n",
       "1  13470     240000    2          1         2   46      2      2     -2   \n",
       "2   3092     320000    2          2         1   41      0      0      0   \n",
       "3  13973      50000    2          2         2   24     -1     -1     -2   \n",
       "4  10567      80000    1          3         1   52     -1      0      0   \n",
       "\n",
       "   PAY_4  PAY_5  PAY_6  BILL_AMT1  BILL_AMT2  BILL_AMT3  BILL_AMT4  BILL_AMT5  \\\n",
       "0     -1     -1     -1      20952      12590       3479       3435       8870   \n",
       "1     -1      0     -1        456          0          0       2240       1681   \n",
       "2      0      0      0      49846      53811      38717      35409      35036   \n",
       "3     -2     -2     -2       2675          0          0          0          0   \n",
       "4      0      0      0      35861      18521      19385      20561      21261   \n",
       "\n",
       "   BILL_AMT6  PAY_AMT1  PAY_AMT2  PAY_AMT3  PAY_AMT4  PAY_AMT5  PAY_AMT6  \\\n",
       "0       2020     12590      3479      3446      8870      2020     27043   \n",
       "1       2267         0         0      2240         0      2267      3074   \n",
       "2      35939      5000      2000      2000      3000      3000      1500   \n",
       "3          0         0         0         0         0         0         0   \n",
       "4      21457      1500      1500      1500      1028       876      1449   \n",
       "\n",
       "   default_payment_next_month  \n",
       "0                           0  \n",
       "1                           0  \n",
       "2                           0  \n",
       "3                           1  \n",
       "4                           0  "
      ]
     },
     "execution_count": 27,
     "metadata": {},
     "output_type": "execute_result"
    }
   ],
   "source": [
    "data_df.head()"
   ]
  },
  {
   "cell_type": "markdown",
   "metadata": {
    "_uuid": "80262c57b20a42f6f9bbda4e8c73ad80d137b8f7"
   },
   "source": [
    "Let's look into more details to the data."
   ]
  },
  {
   "cell_type": "code",
   "execution_count": 28,
   "metadata": {
    "_uuid": "3912ba81657dec0482d93e0d3363592bda85398d"
   },
   "outputs": [
    {
     "data": {
      "text/html": [
       "<div>\n",
       "<style scoped>\n",
       "    .dataframe tbody tr th:only-of-type {\n",
       "        vertical-align: middle;\n",
       "    }\n",
       "\n",
       "    .dataframe tbody tr th {\n",
       "        vertical-align: top;\n",
       "    }\n",
       "\n",
       "    .dataframe thead th {\n",
       "        text-align: right;\n",
       "    }\n",
       "</style>\n",
       "<table border=\"1\" class=\"dataframe\">\n",
       "  <thead>\n",
       "    <tr style=\"text-align: right;\">\n",
       "      <th></th>\n",
       "      <th>ID</th>\n",
       "      <th>LIMIT_BAL</th>\n",
       "      <th>SEX</th>\n",
       "      <th>EDUCATION</th>\n",
       "      <th>MARRIAGE</th>\n",
       "      <th>AGE</th>\n",
       "      <th>PAY_0</th>\n",
       "      <th>PAY_2</th>\n",
       "      <th>PAY_3</th>\n",
       "      <th>PAY_4</th>\n",
       "      <th>PAY_5</th>\n",
       "      <th>PAY_6</th>\n",
       "      <th>BILL_AMT1</th>\n",
       "      <th>BILL_AMT2</th>\n",
       "      <th>BILL_AMT3</th>\n",
       "      <th>BILL_AMT4</th>\n",
       "      <th>BILL_AMT5</th>\n",
       "      <th>BILL_AMT6</th>\n",
       "      <th>PAY_AMT1</th>\n",
       "      <th>PAY_AMT2</th>\n",
       "      <th>PAY_AMT3</th>\n",
       "      <th>PAY_AMT4</th>\n",
       "      <th>PAY_AMT5</th>\n",
       "      <th>PAY_AMT6</th>\n",
       "      <th>default_payment_next_month</th>\n",
       "    </tr>\n",
       "  </thead>\n",
       "  <tbody>\n",
       "    <tr>\n",
       "      <th>count</th>\n",
       "      <td>21000.000000</td>\n",
       "      <td>21000.000000</td>\n",
       "      <td>21000.000000</td>\n",
       "      <td>21000.000000</td>\n",
       "      <td>21000.000000</td>\n",
       "      <td>21000.000000</td>\n",
       "      <td>21000.00000</td>\n",
       "      <td>21000.000000</td>\n",
       "      <td>21000.000000</td>\n",
       "      <td>21000.00000</td>\n",
       "      <td>21000.000000</td>\n",
       "      <td>21000.000000</td>\n",
       "      <td>21000.000000</td>\n",
       "      <td>21000.000000</td>\n",
       "      <td>2.100000e+04</td>\n",
       "      <td>21000.000000</td>\n",
       "      <td>21000.000000</td>\n",
       "      <td>21000.000000</td>\n",
       "      <td>21000.000000</td>\n",
       "      <td>2.100000e+04</td>\n",
       "      <td>21000.000000</td>\n",
       "      <td>21000.000000</td>\n",
       "      <td>21000.000000</td>\n",
       "      <td>21000.000000</td>\n",
       "      <td>21000.000000</td>\n",
       "    </tr>\n",
       "    <tr>\n",
       "      <th>mean</th>\n",
       "      <td>14949.183667</td>\n",
       "      <td>167214.746667</td>\n",
       "      <td>1.607571</td>\n",
       "      <td>1.854190</td>\n",
       "      <td>1.551714</td>\n",
       "      <td>35.461619</td>\n",
       "      <td>-0.01119</td>\n",
       "      <td>-0.127238</td>\n",
       "      <td>-0.164857</td>\n",
       "      <td>-0.21819</td>\n",
       "      <td>-0.260952</td>\n",
       "      <td>-0.288667</td>\n",
       "      <td>51501.542381</td>\n",
       "      <td>49463.502667</td>\n",
       "      <td>4.723258e+04</td>\n",
       "      <td>43387.372476</td>\n",
       "      <td>40398.551095</td>\n",
       "      <td>38931.194000</td>\n",
       "      <td>5686.349333</td>\n",
       "      <td>5.923003e+03</td>\n",
       "      <td>5202.325333</td>\n",
       "      <td>4793.172000</td>\n",
       "      <td>4797.012952</td>\n",
       "      <td>5211.736762</td>\n",
       "      <td>0.221190</td>\n",
       "    </tr>\n",
       "    <tr>\n",
       "      <th>std</th>\n",
       "      <td>8632.775153</td>\n",
       "      <td>128965.188482</td>\n",
       "      <td>0.488303</td>\n",
       "      <td>0.791628</td>\n",
       "      <td>0.521176</td>\n",
       "      <td>9.206628</td>\n",
       "      <td>1.12321</td>\n",
       "      <td>1.198957</td>\n",
       "      <td>1.198624</td>\n",
       "      <td>1.17221</td>\n",
       "      <td>1.141454</td>\n",
       "      <td>1.151592</td>\n",
       "      <td>73453.641859</td>\n",
       "      <td>70866.586004</td>\n",
       "      <td>6.953988e+04</td>\n",
       "      <td>64081.073110</td>\n",
       "      <td>60396.811177</td>\n",
       "      <td>59196.499234</td>\n",
       "      <td>16868.075695</td>\n",
       "      <td>2.390953e+04</td>\n",
       "      <td>17006.416467</td>\n",
       "      <td>15467.403159</td>\n",
       "      <td>15270.031988</td>\n",
       "      <td>17698.795697</td>\n",
       "      <td>0.415058</td>\n",
       "    </tr>\n",
       "    <tr>\n",
       "      <th>min</th>\n",
       "      <td>1.000000</td>\n",
       "      <td>10000.000000</td>\n",
       "      <td>1.000000</td>\n",
       "      <td>0.000000</td>\n",
       "      <td>0.000000</td>\n",
       "      <td>21.000000</td>\n",
       "      <td>-2.00000</td>\n",
       "      <td>-2.000000</td>\n",
       "      <td>-2.000000</td>\n",
       "      <td>-2.00000</td>\n",
       "      <td>-2.000000</td>\n",
       "      <td>-2.000000</td>\n",
       "      <td>-14386.000000</td>\n",
       "      <td>-69777.000000</td>\n",
       "      <td>-1.572640e+05</td>\n",
       "      <td>-170000.000000</td>\n",
       "      <td>-81334.000000</td>\n",
       "      <td>-209051.000000</td>\n",
       "      <td>0.000000</td>\n",
       "      <td>0.000000e+00</td>\n",
       "      <td>0.000000</td>\n",
       "      <td>0.000000</td>\n",
       "      <td>0.000000</td>\n",
       "      <td>0.000000</td>\n",
       "      <td>0.000000</td>\n",
       "    </tr>\n",
       "    <tr>\n",
       "      <th>25%</th>\n",
       "      <td>7508.750000</td>\n",
       "      <td>50000.000000</td>\n",
       "      <td>1.000000</td>\n",
       "      <td>1.000000</td>\n",
       "      <td>1.000000</td>\n",
       "      <td>28.000000</td>\n",
       "      <td>-1.00000</td>\n",
       "      <td>-1.000000</td>\n",
       "      <td>-1.000000</td>\n",
       "      <td>-1.00000</td>\n",
       "      <td>-1.000000</td>\n",
       "      <td>-1.000000</td>\n",
       "      <td>3564.750000</td>\n",
       "      <td>3000.000000</td>\n",
       "      <td>2.686250e+03</td>\n",
       "      <td>2332.000000</td>\n",
       "      <td>1759.000000</td>\n",
       "      <td>1242.750000</td>\n",
       "      <td>998.250000</td>\n",
       "      <td>8.360000e+02</td>\n",
       "      <td>390.000000</td>\n",
       "      <td>284.000000</td>\n",
       "      <td>241.000000</td>\n",
       "      <td>102.000000</td>\n",
       "      <td>0.000000</td>\n",
       "    </tr>\n",
       "    <tr>\n",
       "      <th>50%</th>\n",
       "      <td>14939.500000</td>\n",
       "      <td>140000.000000</td>\n",
       "      <td>2.000000</td>\n",
       "      <td>2.000000</td>\n",
       "      <td>2.000000</td>\n",
       "      <td>34.000000</td>\n",
       "      <td>0.00000</td>\n",
       "      <td>0.000000</td>\n",
       "      <td>0.000000</td>\n",
       "      <td>0.00000</td>\n",
       "      <td>0.000000</td>\n",
       "      <td>0.000000</td>\n",
       "      <td>22578.000000</td>\n",
       "      <td>21550.000000</td>\n",
       "      <td>2.024200e+04</td>\n",
       "      <td>19158.500000</td>\n",
       "      <td>18266.500000</td>\n",
       "      <td>17203.500000</td>\n",
       "      <td>2100.000000</td>\n",
       "      <td>2.011000e+03</td>\n",
       "      <td>1811.500000</td>\n",
       "      <td>1500.000000</td>\n",
       "      <td>1500.000000</td>\n",
       "      <td>1500.000000</td>\n",
       "      <td>0.000000</td>\n",
       "    </tr>\n",
       "    <tr>\n",
       "      <th>75%</th>\n",
       "      <td>22386.750000</td>\n",
       "      <td>240000.000000</td>\n",
       "      <td>2.000000</td>\n",
       "      <td>2.000000</td>\n",
       "      <td>2.000000</td>\n",
       "      <td>41.000000</td>\n",
       "      <td>0.00000</td>\n",
       "      <td>0.000000</td>\n",
       "      <td>0.000000</td>\n",
       "      <td>0.00000</td>\n",
       "      <td>0.000000</td>\n",
       "      <td>0.000000</td>\n",
       "      <td>67876.250000</td>\n",
       "      <td>64918.250000</td>\n",
       "      <td>6.082675e+04</td>\n",
       "      <td>55376.750000</td>\n",
       "      <td>50517.250000</td>\n",
       "      <td>49463.000000</td>\n",
       "      <td>5023.250000</td>\n",
       "      <td>5.000000e+03</td>\n",
       "      <td>4500.000000</td>\n",
       "      <td>4002.250000</td>\n",
       "      <td>4051.000000</td>\n",
       "      <td>4000.000000</td>\n",
       "      <td>0.000000</td>\n",
       "    </tr>\n",
       "    <tr>\n",
       "      <th>max</th>\n",
       "      <td>29998.000000</td>\n",
       "      <td>800000.000000</td>\n",
       "      <td>2.000000</td>\n",
       "      <td>6.000000</td>\n",
       "      <td>3.000000</td>\n",
       "      <td>75.000000</td>\n",
       "      <td>8.00000</td>\n",
       "      <td>8.000000</td>\n",
       "      <td>8.000000</td>\n",
       "      <td>8.00000</td>\n",
       "      <td>8.000000</td>\n",
       "      <td>8.000000</td>\n",
       "      <td>746814.000000</td>\n",
       "      <td>743970.000000</td>\n",
       "      <td>1.664089e+06</td>\n",
       "      <td>706864.000000</td>\n",
       "      <td>587067.000000</td>\n",
       "      <td>699944.000000</td>\n",
       "      <td>873552.000000</td>\n",
       "      <td>1.684259e+06</td>\n",
       "      <td>889043.000000</td>\n",
       "      <td>621000.000000</td>\n",
       "      <td>417990.000000</td>\n",
       "      <td>528666.000000</td>\n",
       "      <td>1.000000</td>\n",
       "    </tr>\n",
       "  </tbody>\n",
       "</table>\n",
       "</div>"
      ],
      "text/plain": [
       "                 ID      LIMIT_BAL           SEX     EDUCATION      MARRIAGE  \\\n",
       "count  21000.000000   21000.000000  21000.000000  21000.000000  21000.000000   \n",
       "mean   14949.183667  167214.746667      1.607571      1.854190      1.551714   \n",
       "std     8632.775153  128965.188482      0.488303      0.791628      0.521176   \n",
       "min        1.000000   10000.000000      1.000000      0.000000      0.000000   \n",
       "25%     7508.750000   50000.000000      1.000000      1.000000      1.000000   \n",
       "50%    14939.500000  140000.000000      2.000000      2.000000      2.000000   \n",
       "75%    22386.750000  240000.000000      2.000000      2.000000      2.000000   \n",
       "max    29998.000000  800000.000000      2.000000      6.000000      3.000000   \n",
       "\n",
       "                AGE        PAY_0         PAY_2         PAY_3        PAY_4  \\\n",
       "count  21000.000000  21000.00000  21000.000000  21000.000000  21000.00000   \n",
       "mean      35.461619     -0.01119     -0.127238     -0.164857     -0.21819   \n",
       "std        9.206628      1.12321      1.198957      1.198624      1.17221   \n",
       "min       21.000000     -2.00000     -2.000000     -2.000000     -2.00000   \n",
       "25%       28.000000     -1.00000     -1.000000     -1.000000     -1.00000   \n",
       "50%       34.000000      0.00000      0.000000      0.000000      0.00000   \n",
       "75%       41.000000      0.00000      0.000000      0.000000      0.00000   \n",
       "max       75.000000      8.00000      8.000000      8.000000      8.00000   \n",
       "\n",
       "              PAY_5         PAY_6      BILL_AMT1      BILL_AMT2     BILL_AMT3  \\\n",
       "count  21000.000000  21000.000000   21000.000000   21000.000000  2.100000e+04   \n",
       "mean      -0.260952     -0.288667   51501.542381   49463.502667  4.723258e+04   \n",
       "std        1.141454      1.151592   73453.641859   70866.586004  6.953988e+04   \n",
       "min       -2.000000     -2.000000  -14386.000000  -69777.000000 -1.572640e+05   \n",
       "25%       -1.000000     -1.000000    3564.750000    3000.000000  2.686250e+03   \n",
       "50%        0.000000      0.000000   22578.000000   21550.000000  2.024200e+04   \n",
       "75%        0.000000      0.000000   67876.250000   64918.250000  6.082675e+04   \n",
       "max        8.000000      8.000000  746814.000000  743970.000000  1.664089e+06   \n",
       "\n",
       "           BILL_AMT4      BILL_AMT5      BILL_AMT6       PAY_AMT1  \\\n",
       "count   21000.000000   21000.000000   21000.000000   21000.000000   \n",
       "mean    43387.372476   40398.551095   38931.194000    5686.349333   \n",
       "std     64081.073110   60396.811177   59196.499234   16868.075695   \n",
       "min   -170000.000000  -81334.000000 -209051.000000       0.000000   \n",
       "25%      2332.000000    1759.000000    1242.750000     998.250000   \n",
       "50%     19158.500000   18266.500000   17203.500000    2100.000000   \n",
       "75%     55376.750000   50517.250000   49463.000000    5023.250000   \n",
       "max    706864.000000  587067.000000  699944.000000  873552.000000   \n",
       "\n",
       "           PAY_AMT2       PAY_AMT3       PAY_AMT4       PAY_AMT5  \\\n",
       "count  2.100000e+04   21000.000000   21000.000000   21000.000000   \n",
       "mean   5.923003e+03    5202.325333    4793.172000    4797.012952   \n",
       "std    2.390953e+04   17006.416467   15467.403159   15270.031988   \n",
       "min    0.000000e+00       0.000000       0.000000       0.000000   \n",
       "25%    8.360000e+02     390.000000     284.000000     241.000000   \n",
       "50%    2.011000e+03    1811.500000    1500.000000    1500.000000   \n",
       "75%    5.000000e+03    4500.000000    4002.250000    4051.000000   \n",
       "max    1.684259e+06  889043.000000  621000.000000  417990.000000   \n",
       "\n",
       "            PAY_AMT6  default_payment_next_month  \n",
       "count   21000.000000                21000.000000  \n",
       "mean     5211.736762                    0.221190  \n",
       "std     17698.795697                    0.415058  \n",
       "min         0.000000                    0.000000  \n",
       "25%       102.000000                    0.000000  \n",
       "50%      1500.000000                    0.000000  \n",
       "75%      4000.000000                    0.000000  \n",
       "max    528666.000000                    1.000000  "
      ]
     },
     "execution_count": 28,
     "metadata": {},
     "output_type": "execute_result"
    }
   ],
   "source": [
    "data_df.describe()"
   ]
  },
  {
   "cell_type": "markdown",
   "metadata": {
    "_uuid": "f6ddff00531bf0fb0426ae16439b0c85209fec20"
   },
   "source": [
    "There are 21,000 distinct credit card clients.  \n",
    "\n",
    "The average value for the amount of credit card limit is 167,214. The standard deviation is unusually large, max value being 800k.\n",
    "\n",
    "Education level is mostly graduate school and university.\n",
    "\n",
    "Most of the clients are either marrined or single (less frequent the other status).\n",
    "\n",
    "Average age is 35.46 years, with a standard deviation of 9.2.\n",
    "\n",
    "As the value 0 for default payment means 'not default' and value 1 means 'default', the mean of 0.221 means that there are 22.1% of credit card contracts that will default next month (will verify this in the next sections of this analysis).\n"
   ]
  },
  {
   "cell_type": "markdown",
   "metadata": {
    "_uuid": "6ad232af9cc809e5c3d4a845e84f6040acdc0092"
   },
   "source": [
    "## <a id=\"42\">Check missing data</a>  \n",
    "\n",
    "Let's check if there is any missing data."
   ]
  },
  {
   "cell_type": "code",
   "execution_count": 29,
   "metadata": {
    "_uuid": "f2bdced82e9bb59ec24ac299085923f2e6ac1443"
   },
   "outputs": [
    {
     "data": {
      "text/html": [
       "<div>\n",
       "<style scoped>\n",
       "    .dataframe tbody tr th:only-of-type {\n",
       "        vertical-align: middle;\n",
       "    }\n",
       "\n",
       "    .dataframe tbody tr th {\n",
       "        vertical-align: top;\n",
       "    }\n",
       "\n",
       "    .dataframe thead th {\n",
       "        text-align: right;\n",
       "    }\n",
       "</style>\n",
       "<table border=\"1\" class=\"dataframe\">\n",
       "  <thead>\n",
       "    <tr style=\"text-align: right;\">\n",
       "      <th></th>\n",
       "      <th>default_payment_next_month</th>\n",
       "      <th>PAY_6</th>\n",
       "      <th>LIMIT_BAL</th>\n",
       "      <th>SEX</th>\n",
       "      <th>EDUCATION</th>\n",
       "      <th>MARRIAGE</th>\n",
       "      <th>AGE</th>\n",
       "      <th>PAY_0</th>\n",
       "      <th>PAY_2</th>\n",
       "      <th>PAY_3</th>\n",
       "      <th>PAY_4</th>\n",
       "      <th>PAY_5</th>\n",
       "      <th>BILL_AMT1</th>\n",
       "      <th>PAY_AMT6</th>\n",
       "      <th>BILL_AMT2</th>\n",
       "      <th>BILL_AMT3</th>\n",
       "      <th>BILL_AMT4</th>\n",
       "      <th>BILL_AMT5</th>\n",
       "      <th>BILL_AMT6</th>\n",
       "      <th>PAY_AMT1</th>\n",
       "      <th>PAY_AMT2</th>\n",
       "      <th>PAY_AMT3</th>\n",
       "      <th>PAY_AMT4</th>\n",
       "      <th>PAY_AMT5</th>\n",
       "      <th>ID</th>\n",
       "    </tr>\n",
       "  </thead>\n",
       "  <tbody>\n",
       "    <tr>\n",
       "      <th>Total</th>\n",
       "      <td>0.0</td>\n",
       "      <td>0.0</td>\n",
       "      <td>0.0</td>\n",
       "      <td>0.0</td>\n",
       "      <td>0.0</td>\n",
       "      <td>0.0</td>\n",
       "      <td>0.0</td>\n",
       "      <td>0.0</td>\n",
       "      <td>0.0</td>\n",
       "      <td>0.0</td>\n",
       "      <td>0.0</td>\n",
       "      <td>0.0</td>\n",
       "      <td>0.0</td>\n",
       "      <td>0.0</td>\n",
       "      <td>0.0</td>\n",
       "      <td>0.0</td>\n",
       "      <td>0.0</td>\n",
       "      <td>0.0</td>\n",
       "      <td>0.0</td>\n",
       "      <td>0.0</td>\n",
       "      <td>0.0</td>\n",
       "      <td>0.0</td>\n",
       "      <td>0.0</td>\n",
       "      <td>0.0</td>\n",
       "      <td>0.0</td>\n",
       "    </tr>\n",
       "    <tr>\n",
       "      <th>Percent</th>\n",
       "      <td>0.0</td>\n",
       "      <td>0.0</td>\n",
       "      <td>0.0</td>\n",
       "      <td>0.0</td>\n",
       "      <td>0.0</td>\n",
       "      <td>0.0</td>\n",
       "      <td>0.0</td>\n",
       "      <td>0.0</td>\n",
       "      <td>0.0</td>\n",
       "      <td>0.0</td>\n",
       "      <td>0.0</td>\n",
       "      <td>0.0</td>\n",
       "      <td>0.0</td>\n",
       "      <td>0.0</td>\n",
       "      <td>0.0</td>\n",
       "      <td>0.0</td>\n",
       "      <td>0.0</td>\n",
       "      <td>0.0</td>\n",
       "      <td>0.0</td>\n",
       "      <td>0.0</td>\n",
       "      <td>0.0</td>\n",
       "      <td>0.0</td>\n",
       "      <td>0.0</td>\n",
       "      <td>0.0</td>\n",
       "      <td>0.0</td>\n",
       "    </tr>\n",
       "  </tbody>\n",
       "</table>\n",
       "</div>"
      ],
      "text/plain": [
       "         default_payment_next_month  PAY_6  LIMIT_BAL  SEX  EDUCATION  \\\n",
       "Total                           0.0    0.0        0.0  0.0        0.0   \n",
       "Percent                         0.0    0.0        0.0  0.0        0.0   \n",
       "\n",
       "         MARRIAGE  AGE  PAY_0  PAY_2  PAY_3  PAY_4  PAY_5  BILL_AMT1  \\\n",
       "Total         0.0  0.0    0.0    0.0    0.0    0.0    0.0        0.0   \n",
       "Percent       0.0  0.0    0.0    0.0    0.0    0.0    0.0        0.0   \n",
       "\n",
       "         PAY_AMT6  BILL_AMT2  BILL_AMT3  BILL_AMT4  BILL_AMT5  BILL_AMT6  \\\n",
       "Total         0.0        0.0        0.0        0.0        0.0        0.0   \n",
       "Percent       0.0        0.0        0.0        0.0        0.0        0.0   \n",
       "\n",
       "         PAY_AMT1  PAY_AMT2  PAY_AMT3  PAY_AMT4  PAY_AMT5   ID  \n",
       "Total         0.0       0.0       0.0       0.0       0.0  0.0  \n",
       "Percent       0.0       0.0       0.0       0.0       0.0  0.0  "
      ]
     },
     "execution_count": 29,
     "metadata": {},
     "output_type": "execute_result"
    }
   ],
   "source": [
    "total = data_df.isnull().sum().sort_values(ascending = False)\n",
    "percent = (data_df.isnull().sum()/data_df.isnull().count()*100).sort_values(ascending = False)\n",
    "pd.concat([total, percent], axis=1, keys=['Total', 'Percent']).transpose()"
   ]
  },
  {
   "cell_type": "markdown",
   "metadata": {
    "_uuid": "5511ffa0221787a74267be037ef69b78f27d376a"
   },
   "source": [
    "There is no missing data in the entire dataset."
   ]
  },
  {
   "cell_type": "markdown",
   "metadata": {
    "_uuid": "8c2e96567145b1a38cd61dd923897da4723466c7"
   },
   "source": [
    "## <a id=\"43\">Data unbalance</a>"
   ]
  },
  {
   "cell_type": "markdown",
   "metadata": {
    "_uuid": "eef10eb62d24eae34579d9ac6f5a517ddb71e5a6"
   },
   "source": [
    "Let's check data unbalance with respect with *target* value, i.e. **default.payment.next.month**."
   ]
  },
  {
   "cell_type": "code",
   "execution_count": 30,
   "metadata": {
    "_uuid": "67c4920c60ce33313ae3bedbd82c14c5bd49c5a1"
   },
   "outputs": [
    {
     "name": "stdout",
     "output_type": "stream",
     "text": [
      "0    16355\n",
      "1     4645\n",
      "Name: default_payment_next_month, dtype: int64\n"
     ]
    }
   ],
   "source": [
    "temp = data_df[\"default_payment_next_month\"].value_counts()\n",
    "print(temp)"
   ]
  },
  {
   "cell_type": "code",
   "execution_count": 31,
   "metadata": {
    "_uuid": "67c4920c60ce33313ae3bedbd82c14c5bd49c5a1"
   },
   "outputs": [
    {
     "data": {
      "image/png": "[encoded data removed]",
      "text/plain": [
       "<Figure size 432x432 with 1 Axes>"
      ]
     },
     "metadata": {
      "needs_background": "light"
     },
     "output_type": "display_data"
    }
   ],
   "source": [
    "df = pd.DataFrame({'default_payment_next_month': temp.index,'values': temp.values})\n",
    "plt.figure(figsize = (6,6))\n",
    "plt.title('Default Credit Card Clients - target value - data unbalance\\n (Default = 0, Not Default = 1)')\n",
    "sns.set_color_codes(\"pastel\")\n",
    "sns.barplot(x = 'default_payment_next_month', y=\"values\", data=df)\n",
    "locs, labels = plt.xticks()\n",
    "plt.show()"
   ]
  },
  {
   "cell_type": "markdown",
   "metadata": {
    "_uuid": "c7ebb8773d38e903073e1d3b721f772ca0984f98"
   },
   "source": [
    "A number of **4,645** out of **21,000** (or **22%**) of clients will default next month. The data has not a large unbalance with respect of the target value (default_payment_next_month)."
   ]
  },
  {
   "cell_type": "markdown",
   "metadata": {
    "_uuid": "73afc4261ca3b69f57522d88b5d47fd09aa1719b"
   },
   "source": [
    "# <a id=\"6\">Predict Default</a>  \n",
    "\n"
   ]
  },
  {
   "cell_type": "markdown",
   "metadata": {
    "_uuid": "596403a32cf55fdecf560e1d224d56b0f05b27d3"
   },
   "source": [
    "### Define predictors and target values\n",
    "\n",
    "Let's define the predictor features and the target features. Categorical features, if any, are also defined. In our case, there are no categorical feature."
   ]
  },
  {
   "cell_type": "code",
   "execution_count": 32,
   "metadata": {
    "_uuid": "ed83bdac133ff9798c30e47251b9df9b1caaebf2"
   },
   "outputs": [],
   "source": [
    "target = 'default_payment_next_month'\n",
    "predictors = [  'LIMIT_BAL', 'SEX', 'EDUCATION', 'MARRIAGE', 'AGE', \n",
    "                'PAY_0', 'PAY_2', 'PAY_3', 'PAY_4', 'PAY_5', 'PAY_6', \n",
    "                'BILL_AMT1','BILL_AMT2', 'BILL_AMT3', 'BILL_AMT4', 'BILL_AMT5', 'BILL_AMT6',\n",
    "                'PAY_AMT1', 'PAY_AMT2', 'PAY_AMT3', 'PAY_AMT4', 'PAY_AMT5', 'PAY_AMT6']"
   ]
  },
  {
   "cell_type": "markdown",
   "metadata": {
    "_uuid": "87ecb2db1421b29644b62775a84a874a9d2d4d4b"
   },
   "source": [
    "### Split data in train and validation set\n",
    "\n",
    "Let's define train and validation sets."
   ]
  },
  {
   "cell_type": "code",
   "execution_count": 33,
   "metadata": {
    "_uuid": "7cba85c44c5b6522daa9a0f7cea8529034c0fbe2"
   },
   "outputs": [],
   "source": [
    "train_df, val_df = train_test_split(data_df, test_size=VALID_SIZE, random_state=RANDOM_STATE, shuffle=True )"
   ]
  },
  {
   "cell_type": "markdown",
   "metadata": {
    "_uuid": "69bcbd2d41e85d4d9ef387002b38eea21b0db33d"
   },
   "source": [
    "We also make copies of the train_df and val_df for later usage."
   ]
  },
  {
   "cell_type": "code",
   "execution_count": 34,
   "metadata": {
    "_uuid": "39e5bd937ae1eb4fdf4157aba7401ce06e1552a4"
   },
   "outputs": [],
   "source": [
    "train_df_bkp = train_df.copy()\n",
    "val_df_bkp = val_df.copy()"
   ]
  },
  {
   "cell_type": "markdown",
   "metadata": {
    "_uuid": "5971335ef6cbaa165aed82b2ed6860037ad69439"
   },
   "source": [
    "## <a id=\"64\">XGBoost</a>"
   ]
  },
  {
   "cell_type": "markdown",
   "metadata": {
    "_uuid": "6b4abdda9afec63ecf559bc0678d73feae3ea84a"
   },
   "source": [
    "XGBoost is a gradient boosting algorithm <a href='#8'>[7]</a>.\n",
    "\n",
    "Let's prepare the model."
   ]
  },
  {
   "cell_type": "markdown",
   "metadata": {
    "_uuid": "d7f9cbb6193e637924d7205734c34bc11abfa033"
   },
   "source": [
    "### Prepare the model\n",
    "\n",
    "We initialize the DMatrix objects for training and validation, starting from the datasets. We also set some of the parameters used for the model tuning."
   ]
  },
  {
   "cell_type": "code",
   "execution_count": 48,
   "metadata": {
    "_uuid": "da380529fbef2b22345e763117fd0ed4bfa00801"
   },
   "outputs": [],
   "source": [
    "# Prepare the train and valid datasets\n",
    "dtrain = xgb.DMatrix(train_df[predictors], train_df[target].values)\n",
    "dvalid = xgb.DMatrix(val_df[predictors], val_df[target].values)\n",
    "dtest = xgb.DMatrix(data_test_df[predictors])\n",
    "\n",
    "#What to monitor (in this case, **train** and **valid**)\n",
    "watchlist = [(dtrain, 'train'), (dvalid, 'valid')]\n",
    "\n",
    "# Set xgboost parameters\n",
    "params = {}\n",
    "params['objective'] = 'binary:logistic'\n",
    "params['eta'] = 0.039\n",
    "params['silent'] = True\n",
    "params['max_depth'] = 2\n",
    "params['subsample'] = 0.8\n",
    "params['colsample_bytree'] = 0.9\n",
    "params['eval_metric'] = 'auc'\n",
    "params['random_state'] = RANDOM_STATE"
   ]
  },
  {
   "cell_type": "markdown",
   "metadata": {
    "_uuid": "56ba43173f44b2f0ffc9f2f25e508c1d99e2b3cf"
   },
   "source": [
    "### Train the model\n",
    "\n",
    "Let's train the model. "
   ]
  },
  {
   "cell_type": "code",
   "execution_count": 36,
   "metadata": {
    "_uuid": "b12dbaabb99e9a3e91f03cf2e614f0f3f297ce2f"
   },
   "outputs": [
    {
     "name": "stdout",
     "output_type": "stream",
     "text": [
      "[0]\ttrain-auc:0.69531\tvalid-auc:0.69315\n",
      "Multiple eval metrics have been passed: 'valid-auc' will be used for early stopping.\n",
      "\n",
      "Will train until valid-auc hasn't improved in 50 rounds.\n",
      "[50]\ttrain-auc:0.77491\tvalid-auc:0.76849\n",
      "[100]\ttrain-auc:0.78303\tvalid-auc:0.77299\n",
      "[150]\ttrain-auc:0.79017\tvalid-auc:0.77543\n",
      "[200]\ttrain-auc:0.79415\tvalid-auc:0.77668\n",
      "[250]\ttrain-auc:0.79734\tvalid-auc:0.77798\n",
      "[300]\ttrain-auc:0.79986\tvalid-auc:0.77921\n",
      "[350]\ttrain-auc:0.80232\tvalid-auc:0.77965\n",
      "[400]\ttrain-auc:0.80417\tvalid-auc:0.78052\n",
      "[450]\ttrain-auc:0.80610\tvalid-auc:0.78101\n",
      "[500]\ttrain-auc:0.80796\tvalid-auc:0.78121\n",
      "Stopping. Best iteration:\n",
      "[489]\ttrain-auc:0.80754\tvalid-auc:0.78136\n",
      "\n"
     ]
    }
   ],
   "source": [
    "model = xgb.train(params, \n",
    "                dtrain, \n",
    "                MAX_ROUNDS, \n",
    "                watchlist, \n",
    "                early_stopping_rounds=EARLY_STOP, \n",
    "                maximize=True, \n",
    "                verbose_eval=VERBOSE_EVAL)"
   ]
  },
  {
   "cell_type": "markdown",
   "metadata": {
    "_uuid": "dd80e9763ffd18ac4b6a5f02683ab6a509ec94e5"
   },
   "source": [
    "The best validation score (ROC-AUC) was **0.78**, for round **489**."
   ]
  },
  {
   "cell_type": "markdown",
   "metadata": {
    "_uuid": "62f92b33e315d16262503b2368e3107a66e5896e"
   },
   "source": [
    "### Plot variable importance"
   ]
  },
  {
   "cell_type": "code",
   "execution_count": 38,
   "metadata": {
    "_uuid": "757eea50f6b07bcb3b4e32f507d06a5232d3c781"
   },
   "outputs": [
    {
     "data": {
      "image/png": "[encoded data removed]",
      "text/plain": [
       "<Figure size 576x360 with 1 Axes>"
      ]
     },
     "metadata": {
      "needs_background": "light"
     },
     "output_type": "display_data"
    }
   ],
   "source": [
    "fig, (ax) = plt.subplots(ncols=1, figsize=(8,5))\n",
    "xgb.plot_importance(model, height=0.8, title=\"Features importance (XGBoost)\", ax=ax, color=\"green\") \n",
    "plt.show()"
   ]
  },
  {
   "cell_type": "markdown",
   "metadata": {},
   "source": [
    "### Scoring the test set"
   ]
  },
  {
   "cell_type": "code",
   "execution_count": 49,
   "metadata": {},
   "outputs": [],
   "source": [
    "# make predictions for test data\n",
    "y_pred = model.predict(dtest)\n",
    "predictions = [round(value) for value in y_pred]"
   ]
  },
  {
   "cell_type": "code",
   "execution_count": 56,
   "metadata": {},
   "outputs": [],
   "source": [
    "data_test_df['y_pred'] = predictions\n",
    "data_test_df.to_csv('data1.csv')"
   ]
  }
 ],
 "metadata": {
  "kernelspec": {
   "display_name": "Python 3",
   "language": "python",
   "name": "python3"
  },
  "language_info": {
   "codemirror_mode": {
    "name": "ipython",
    "version": 3
   },
   "file_extension": ".py",
   "mimetype": "text/x-python",
   "name": "python",
   "nbconvert_exporter": "python",
   "pygments_lexer": "ipython3",
   "version": "3.7.3"
  }
 },
 "nbformat": 4,
 "nbformat_minor": 1
}
